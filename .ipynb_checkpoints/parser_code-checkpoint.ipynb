{
 "cells": [
  {
   "cell_type": "code",
   "execution_count": 1,
   "metadata": {
    "collapsed": true
   },
   "outputs": [],
   "source": [
    "import urllib\n",
    "from bs4 import BeautifulSoup\n",
    "from datetime import datetime"
   ]
  },
  {
   "cell_type": "code",
   "execution_count": 2,
   "metadata": {
    "collapsed": true
   },
   "outputs": [],
   "source": [
    "year = datetime.today().strftime(\"%Y\")\n",
    "start = datetime(2020,9,8)\n",
    "week = str(round(((datetime.today() - start).days+2)/7))\n",
    "\n",
    "def crawler(url):\n",
    "    html = urllib.request.urlopen(url).read()\n",
    "    soup = BeautifulSoup(html, 'html.parser')\n",
    "    return soup\n",
    "\n",
    "fte_url = 'https://projects.fivethirtyeight.com/'+year+'-nfl-predictions/games/'\n",
    "fte_soup = crawler(fte_url)\n",
    "vegas_url = 'https://www.vegasinsider.com/nfl/matchups/matchups.cfm/week/'+week+'/season/'+year\n",
    "vegas_soup = crawler(vegas_url)"
   ]
  },
  {
   "cell_type": "code",
   "execution_count": 43,
   "metadata": {
    "collapsed": true
   },
   "outputs": [],
   "source": [
    "# update to have optional week input"
   ]
  },
  {
   "cell_type": "code",
   "execution_count": 5,
   "metadata": {
    "collapsed": true
   },
   "outputs": [],
   "source": [
    "def team_match(x):\n",
    "    if 'jets' in x.lower():\n",
    "        return 'Jets'\n",
    "    if 'indiana' in x.lower():\n",
    "        return 'Colts'\n",
    "    if 'denver'in x.lower():\n",
    "        return 'Broncos'\n",
    "    if 'chica'in x.lower():\n",
    "        return 'Bears'\n",
    "    if 'orlean'in x.lower():\n",
    "        return 'Saints'\n",
    "    if 'arizon' in x.lower():\n",
    "        return 'Cardinals'\n",
    "    if 'carolin' in x.lower():\n",
    "        return 'Panthers'\n",
    "    if 'detroit' in x.lower():\n",
    "        return 'Lions'\n",
    "    if 'cinci' in x.lower():\n",
    "        return 'Bengals'\n",
    "    if 'jackson'in x.lower():\n",
    "        return 'Jaguars'\n",
    "    if 'dallas' in x.lower():\n",
    "        return 'Cowboys'\n",
    "    if 'cleve' in x.lower():\n",
    "        return 'Browns'\n",
    "    if 'houst'in x.lower():\n",
    "        return 'Texans'\n",
    "    if 'minne' in x.lower():\n",
    "        return 'Vikings'\n",
    "    if 'seat' in x.lower():\n",
    "        return 'Seahwaks'\n",
    "    if 'miami' in x.lower():\n",
    "        return 'Dolphins'\n",
    "    if 'tampa' in x.lower():\n",
    "        return 'Buccaneers'\n",
    "    if 'charg' in x.lower():\n",
    "        return 'Chargers'\n",
    "    if 'pitt' in x.lower():\n",
    "        return 'Steelers'\n",
    "    if 'tenn' in x.lower():\n",
    "        return 'Titans'\n",
    "    if 'balti' in x.lower():\n",
    "        return 'Ravens'\n",
    "    if 'washing' in x.lower():\n",
    "        return 'Washington'\n",
    "    if 'rams' in x.lower():\n",
    "        return 'Rams'\n",
    "    if 'giant' in x.lower():\n",
    "        return 'Giants'\n",
    "    if 'kansas' in x.lower():\n",
    "        return 'Chiefs'\n",
    "    if 'england' in x.lower():\n",
    "        return 'Patriots'\n",
    "    if 'buff' in x.lower():\n",
    "        return \"Bills\"\n",
    "    if 'vegas' in x.lower():\n",
    "        return 'Raiders'\n",
    "    if 'franc' in x.lower():\n",
    "        return '49ers'\n",
    "    if 'phila' in x.lower():\n",
    "        return 'Eagles'\n",
    "    if 'green' in x.lower():\n",
    "        return 'Packers'\n",
    "    if 'atlan' in x.lower():\n",
    "        return 'Falcons'\n",
    "    else:\n",
    "        return 'ERROR'"
   ]
  },
  {
   "cell_type": "code",
   "execution_count": 6,
   "metadata": {
    "collapsed": true
   },
   "outputs": [],
   "source": [
    "elo_favorites = []\n",
    "elo_underdogs = []\n",
    "elo_spreads = []\n",
    "current_week_tag_list = fte_soup.find(\"div\", class_=\"days\").find_all(\"tr\")\n",
    "\n",
    "\n",
    "for tag in current_week_tag_list:\n",
    "    if tag.contents[0].get('class') != ['th', 'time']:\n",
    "        if len(tag.contents[2].text) > 1:\n",
    "            elo_favorites.append(tag.contents[1].text.strip())\n",
    "            try:\n",
    "                elo_spreads.append(float(tag.contents[2].text[2:]))\n",
    "            except:\n",
    "                elo_spreads.append(float(0))\n",
    "        else:\n",
    "            elo_underdogs.append(tag.contents[1].text.strip())\n",
    "    else:\n",
    "        pass\n",
    "\n",
    "elo_tuple = list(zip(elo_favorites, elo_underdogs, elo_spreads))"
   ]
  },
  {
   "cell_type": "code",
   "execution_count": 7,
   "metadata": {
    "collapsed": true
   },
   "outputs": [],
   "source": [
    "vegas_favorites = []\n",
    "vegas_underdogs = []\n",
    "vegas_spreads = []\n",
    "\n",
    "current_week_game_tags = vegas_soup.find_all(\"div\",class_='SLTables1')[1].find_all(\"div\",class_='SLTables1')\n",
    "\n",
    "for game_tag in current_week_game_tags:\n",
    "    for row_tag in game_tag.find_all(\"tr\")[4:6]:\n",
    "        if '-' in row_tag.find_all('td')[4].text:\n",
    "            vegas_favorites.append(team_match(row_tag.find('a').text))\n",
    "            vegas_spreads.append(float(row_tag.find_all('td')[4].text[1:]))\n",
    "        elif 'PK' in row_tag.find_all('td')[4].text:\n",
    "            vegas_favorites.append(team_match(row_tag.find('a').text))\n",
    "            vegas_spreads.append(float(0))\n",
    "        else:\n",
    "            vegas_underdogs.append(team_match(row_tag.find('a').text))\n",
    "\n",
    "vegas_tuple = list(zip(vegas_favorites,vegas_underdogs,vegas_spreads))"
   ]
  },
  {
   "cell_type": "code",
   "execution_count": 42,
   "metadata": {},
   "outputs": [
    {
     "name": "stdout",
     "output_type": "stream",
     "text": [
      "('Jets', '-7.0 vs Cardinals') is the number 1 play 3.5pt difference\n",
      "('Bengals', '-13.0 vs Ravens') is the number 2 play 2.0pt difference\n",
      "('Dolphins', '-9.0 vs 49ers') is the number 3 play 2.0pt difference\n",
      "('Broncos', '-5.0 vs Patriots') is the number 4 play 2.0pt difference\n",
      "('Titans', '1.0 vs Titans') is the number 5 play 2.0pt difference\n"
     ]
    }
   ],
   "source": [
    "teams_to_bet = []\n",
    "elo_to_vegas_abs_diffs = []\n",
    "\n",
    "for elo_tup in elo_tuple:\n",
    "    for vegas_tup in vegas_tuple:\n",
    "        if elo_tup[0] not in vegas_tup:\n",
    "            pass\n",
    "        elif elo_tup[0] == vegas_tup[0] and elo_tup[1] == vegas_tup[1]:\n",
    "            elo_to_vegas_diff = elo_tup[2] - vegas_tup[2]\n",
    "            if elo_to_vegas_diff <= 0:\n",
    "                teams_to_bet.append((elo_tup[1],str(vegas_tup[2]*-1)+' vs '+ vegas_tup[0]))\n",
    "            else:\n",
    "                teams_to_bet.append((elo_tup[0], str(vegas_tup[2]+' vs '+ vegas_tup[1])))\n",
    "            elo_to_vegas_abs_diffs.append(abs(elo_to_vegas_diff))\n",
    "        elif elo_tup[0] == vegas_tup[1] and elo_tup[1] == vegas_tup[0]:\n",
    "            elo_to_vegas_diff = elo_tup[2] + vegas_tup[2]\n",
    "            teams_to_bet.append((elo_tup[0], str(vegas_tup[2])+' vs '+ vegas_tup[1]))\n",
    "            elo_to_vegas_abs_diffs.append(abs(elo_to_vegas_diff))\n",
    "\n",
    "plays = list(zip(teams_to_bet,elo_to_vegas_abs_diffs))\n",
    "plays.sort(key=lambda tup: tup[1], reverse=True)\n",
    "\n",
    "\n",
    "for i in range(len(plays)):\n",
    "    if plays[i][1] > 1.5:\n",
    "        print('{} is the number {} play {}pt difference'.format(plays[i][0],\n",
    "                                                                        i+1,plays[i][1]), sep='\\n')"
   ]
  }
 ],
 "metadata": {
  "kernelspec": {
   "display_name": "Python [conda env:anaconda3]",
   "language": "python",
   "name": "conda-env-anaconda3-py"
  },
  "language_info": {
   "codemirror_mode": {
    "name": "ipython",
    "version": 3
   },
   "file_extension": ".py",
   "mimetype": "text/x-python",
   "name": "python",
   "nbconvert_exporter": "python",
   "pygments_lexer": "ipython3",
   "version": "3.6.3"
  }
 },
 "nbformat": 4,
 "nbformat_minor": 2
}
