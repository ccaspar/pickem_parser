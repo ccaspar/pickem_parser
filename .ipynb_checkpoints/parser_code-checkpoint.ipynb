{
 "cells": [
  {
   "cell_type": "code",
   "execution_count": 1,
   "metadata": {
    "collapsed": true
   },
   "outputs": [],
   "source": [
    "import urllib\n",
    "from bs4 import BeautifulSoup"
   ]
  },
  {
   "cell_type": "code",
   "execution_count": 2,
   "metadata": {
    "collapsed": true
   },
   "outputs": [],
   "source": [
    "def crawler(url):\n",
    "    html = urllib.request.urlopen(url).read()\n",
    "    soup = BeautifulSoup(html, 'html.parser')\n",
    "    return soup"
   ]
  },
  {
   "cell_type": "code",
   "execution_count": 3,
   "metadata": {
    "collapsed": true
   },
   "outputs": [],
   "source": [
    "fte_url = 'https://projects.fivethirtyeight.com/2020-nfl-predictions/games/'\n",
    "fte_soup = crawler(fte_url)\n",
    "vegas_url = 'https://www.vegasinsider.com/nfl/matchups/matchups.cfm/week/4/season/2020'\n",
    "vegas_soup = crawler(vegas_url)"
   ]
  },
  {
   "cell_type": "code",
   "execution_count": 4,
   "metadata": {
    "collapsed": true
   },
   "outputs": [],
   "source": [
    "elo_favorites = []\n",
    "elo_underdogs = []\n",
    "elo_spreads = []\n",
    "current_week_tag_list = fte_soup.find(\"div\", class_=\"days\").find_all(\"tr\")\n",
    "\n",
    "\n",
    "for tag in current_week_tag_list:\n",
    "    if tag.contents[0].get('class') != ['th', 'time']:\n",
    "        if len(tag.contents[2].text) > 1:\n",
    "            elo_favorites.append(tag.contents[1].text.strip())\n",
    "            elo_spreads.append(float(tag.contents[2].text[2:]))\n",
    "        else:\n",
    "            elo_underdogs.append(tag.contents[1].text.strip())\n",
    "    else:\n",
    "        pass\n",
    "\n",
    "elo_tuple = list(zip(elo_favorites, elo_underdogs, elo_spreads))"
   ]
  },
  {
   "cell_type": "code",
   "execution_count": 5,
   "metadata": {
    "collapsed": true
   },
   "outputs": [],
   "source": [
    "vegas_favorites = []\n",
    "vegas_underdogs = []\n",
    "vegas_spreads = []\n",
    "\n",
    "current_week_game_tags = vegas_soup.find_all(\"div\",class_='SLTables1')[1].find_all(\"div\",class_='SLTables1')\n",
    "\n",
    "for game_tag in current_week_game_tags:\n",
    "    for row_tag in game_tag.find_all(\"tr\")[4:6]:\n",
    "        if '-' in row_tag.find_all('td')[4].text:\n",
    "            vegas_favorites.append(row_tag.find('a').text)\n",
    "            vegas_spreads.append(float(row_tag.find_all('td')[4].text[1:]))\n",
    "        elif 'PK' in row_tag.find_all('td')[4].text:\n",
    "            vegas_favorites.append(row_tag.find('a').text)\n",
    "            vegas_spreads.append(float(0))\n",
    "        else:\n",
    "            vegas_underdogs.append(row_tag.find('a').text)\n",
    "\n",
    "vegas_tuple = list(zip(vegas_favorites,vegas_underdogs,vegas_spreads))"
   ]
  },
  {
   "cell_type": "code",
   "execution_count": null,
   "metadata": {
    "collapsed": true
   },
   "outputs": [],
   "source": [
    "# need to match team names"
   ]
  },
  {
   "cell_type": "code",
   "execution_count": 20,
   "metadata": {},
   "outputs": [
    {
     "data": {
      "text/plain": [
       "[('Jets', 'Broncos', 3.5),\n",
       " ('Cardinals', 'Panthers', 1.5),\n",
       " ('Ravens', 'Washington', 9.5),\n",
       " ('Cowboys', 'Browns', 3.5),\n",
       " ('Bears', 'Colts', 2.0),\n",
       " ('Bengals', 'Jaguars', 1.5),\n",
       " ('Buccaneers', 'Chargers', 6.0),\n",
       " ('Texans', 'Vikings', 1.0),\n",
       " ('Saints', 'Lions', 4.0),\n",
       " ('Titans', 'Steelers', 0.5),\n",
       " ('Seahawks', 'Dolphins', 5.5),\n",
       " ('Rams', 'Giants', 10.5),\n",
       " ('Bills', 'Raiders', 2.0),\n",
       " ('Chiefs', 'Patriots', 7.5),\n",
       " ('49ers', 'Eagles', 6.5),\n",
       " ('Packers', 'Falcons', 8.5)]"
      ]
     },
     "execution_count": 20,
     "metadata": {},
     "output_type": "execute_result"
    }
   ],
   "source": [
    "elo_tuple"
   ]
  },
  {
   "cell_type": "code",
   "execution_count": 21,
   "metadata": {},
   "outputs": [
    {
     "data": {
      "text/plain": [
       "[('N.Y. Jets', 'Denver', 1.5),\n",
       " ('Indianapolis', 'Chicago', 2.5),\n",
       " ('New Orleans', 'Detroit', 4.0),\n",
       " ('Arizona', 'Carolina', 3.5),\n",
       " ('Cincinnati', 'Jacksonville', 3.0),\n",
       " ('Dallas', 'Cleveland', 4.5),\n",
       " ('Houston', 'Minnesota', 4.5),\n",
       " ('Seattle', 'Miami', 6.5),\n",
       " ('Tampa Bay', 'L.A. Chargers', 7.0),\n",
       " ('Pittsburgh', 'Tennessee', 1.0),\n",
       " ('Baltimore', 'Washington', 13.0),\n",
       " ('L.A. Rams', 'N.Y. Giants', 12.5),\n",
       " ('Kansas City', 'New England', 7.0),\n",
       " ('Buffalo', 'Las Vegas', 3.0),\n",
       " ('San Francisco', 'Philadelphia', 7.0),\n",
       " ('Green Bay', 'Atlanta', 7.0)]"
      ]
     },
     "execution_count": 21,
     "metadata": {},
     "output_type": "execute_result"
    }
   ],
   "source": [
    "vegas_tuple"
   ]
  },
  {
   "cell_type": "code",
   "execution_count": 6,
   "metadata": {
    "collapsed": true
   },
   "outputs": [],
   "source": [
    "teams_to_bet = []\n",
    "elo_to_vegas_abs_diffs = []\n",
    "\n",
    "for elo_tup in elo_tuple:\n",
    "    for vegas_tup in vegas_tuple:\n",
    "        if elo_tup[0] not in vegas_tup:\n",
    "            pass\n",
    "        elif elo_tup[0] == vegas_tup[0] and elo_tup[1] == vegas_tup[1]:\n",
    "            elo_to_vegas_diff = elo_tup[2] - vegas_tup[2]\n",
    "            if elo_to_vegas_diff <= 0:\n",
    "                teams_to_bet.append(elo_tup[1])\n",
    "            else:\n",
    "                teams_to_bet.append(elo_tup[0])\n",
    "            elo_to_vegas_abs_diffs.append(abs(elo_to_vegas_diff))\n",
    "        elif elo_tup[0] == vegas_tup[1] and elo_tup[1] == vegas_tup[0]:\n",
    "            elo_to_vegas_diff = elo_tup[2] + vegas_tup[2]\n",
    "            teams_to_bet.append(elo_tup[0])\n",
    "            elo_to_vegas_abs_diffs.append(abs(elo_to_vegas_diff))\n",
    "\n",
    "plays = list(zip(teams_to_bet,elo_to_vegas_abs_diffs))\n",
    "plays.sort(key=lambda tup: tup[1], reverse=True)\n",
    "\n",
    "\n",
    "for i in range(len(plays)):\n",
    "    print('{} is the number {} play this week with a {}pt absolute spread difference'.format(plays[i][0],\n",
    "                                                                        i+1,plays[i][1]), sep='\\n')"
   ]
  }
 ],
 "metadata": {
  "kernelspec": {
   "display_name": "Python [conda env:anaconda3]",
   "language": "python",
   "name": "conda-env-anaconda3-py"
  },
  "language_info": {
   "codemirror_mode": {
    "name": "ipython",
    "version": 3
   },
   "file_extension": ".py",
   "mimetype": "text/x-python",
   "name": "python",
   "nbconvert_exporter": "python",
   "pygments_lexer": "ipython3",
   "version": "3.6.3"
  }
 },
 "nbformat": 4,
 "nbformat_minor": 2
}
